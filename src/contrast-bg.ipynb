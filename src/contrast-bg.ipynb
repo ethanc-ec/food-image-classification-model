{
 "cells": [
  {
   "cell_type": "code",
   "execution_count": 1,
   "metadata": {},
   "outputs": [
    {
     "data": {
      "text/html": [
       "<style>\n",
       ".cell-output-ipywidget-background {\n",
       "    background-color: transparent !important;\n",
       "}\n",
       ":root {\n",
       "    --jp-widgets-color: var(--vscode-editor-foreground);\n",
       "    --jp-widgets-font-size: var(--vscode-editor-font-size);\n",
       "}\n",
       "</style>\n"
      ],
      "text/plain": [
       "<IPython.core.display.HTML object>"
      ]
     },
     "metadata": {},
     "output_type": "display_data"
    }
   ],
   "source": [
    "%%html\n",
    "<style>\n",
    ".cell-output-ipywidget-background {\n",
    "    background-color: transparent !important;\n",
    "}\n",
    ":root {\n",
    "    --jp-widgets-color: var(--vscode-editor-foreground);\n",
    "    --jp-widgets-font-size: var(--vscode-editor-font-size);\n",
    "}\n",
    "</style>"
   ]
  },
  {
   "cell_type": "code",
   "execution_count": 2,
   "metadata": {},
   "outputs": [
    {
     "data": {
      "text/plain": [
       "(PosixPath('/workspaces/ds340-project/data'),\n",
       " PosixPath('/workspaces/ds340-project/src'))"
      ]
     },
     "execution_count": 2,
     "metadata": {},
     "output_type": "execute_result"
    }
   ],
   "source": [
    "from PIL import Image\n",
    "from pathlib import Path\n",
    "import json\n",
    "from concurrent.futures import ThreadPoolExecutor\n",
    "from itertools import repeat\n",
    "import numpy as np\n",
    "from tqdm.auto import tqdm\n",
    "from shutil import rmtree \n",
    "\n",
    "SRC = Path.cwd()\n",
    "DATA_PATH = Path.cwd().parent / \"data\" if Path.cwd().name == \"src\" else Path.cwd() / \"data\"\n",
    "\n",
    "DATA_PATH, SRC"
   ]
  },
  {
   "cell_type": "code",
   "execution_count": 3,
   "metadata": {},
   "outputs": [
    {
     "data": {
      "application/vnd.jupyter.widget-view+json": {
       "model_id": "bf215b8d363b4c7bb9313ea6fafca940",
       "version_major": 2,
       "version_minor": 0
      },
      "text/plain": [
       "train:   0%|          | 0/101 [00:00<?, ?it/s]"
      ]
     },
     "metadata": {},
     "output_type": "display_data"
    },
    {
     "data": {
      "application/vnd.jupyter.widget-view+json": {
       "model_id": "ef0c116465f14bb98603e11926730ede",
       "version_major": 2,
       "version_minor": 0
      },
      "text/plain": [
       "valid:   0%|          | 0/101 [00:00<?, ?it/s]"
      ]
     },
     "metadata": {},
     "output_type": "display_data"
    },
    {
     "data": {
      "application/vnd.jupyter.widget-view+json": {
       "model_id": "ccd28456379c4e508f98bb15f9a97c71",
       "version_major": 2,
       "version_minor": 0
      },
      "text/plain": [
       "test:   0%|          | 0/101 [00:00<?, ?it/s]"
      ]
     },
     "metadata": {},
     "output_type": "display_data"
    }
   ],
   "source": [
    "Path(DATA_PATH / \"mod_input\").mkdir(exist_ok=True)\n",
    "\n",
    "\n",
    "def remake(dir):\n",
    "    if dir.exists():\n",
    "        rmtree(dir)\n",
    "    dir.mkdir(parents=True)\n",
    "    \n",
    "for inner in [\"train\", \"valid\", \"test\"]:\n",
    "    with tqdm(total=101, desc=str(inner)) as pbar, ThreadPoolExecutor() as executor:\n",
    "        for _ in executor.map(remake, [Path(DATA_PATH / \"mod_input\" / inner / f\"class_{label}\") for label in range(0, 100+1)]):\n",
    "            pbar.update(1)"
   ]
  },
  {
   "cell_type": "code",
   "execution_count": 4,
   "metadata": {},
   "outputs": [],
   "source": [
    "Path(DATA_PATH / \"mod_input\").mkdir(exist_ok=True)\n",
    "\n",
    "def fill_blanks(img_path):\n",
    "    sink = str(img_path).replace(\"nobg\", \"mod\")\n",
    "    if Path(sink).exists(): return\n",
    "\n",
    "    img = np.array(Image.open(img_path))\n",
    "    \n",
    "    non_zero = np.all((img != [0, 0, 0]), axis=-1) # all channels are non-zero\n",
    "    color = np.sum(img[non_zero], axis=(0))\n",
    "    replace_color = abs(np.round(color / np.sum(non_zero)) - 255)\n",
    "    img[np.logical_not(non_zero)] = replace_color\n",
    "    \n",
    "    Image.fromarray(img).save(sink)\n"
   ]
  },
  {
   "cell_type": "code",
   "execution_count": 5,
   "metadata": {},
   "outputs": [
    {
     "data": {
      "application/vnd.jupyter.widget-view+json": {
       "model_id": "8dbc7e314a46447a9439ffc16333a1a9",
       "version_major": 2,
       "version_minor": 0
      },
      "text/plain": [
       "train:   0%|          | 0/75732 [00:00<?, ?it/s]"
      ]
     },
     "metadata": {},
     "output_type": "display_data"
    },
    {
     "name": "stderr",
     "output_type": "stream",
     "text": [
      "/tmp/ipykernel_28042/3602867495.py:11: RuntimeWarning: invalid value encountered in divide\n",
      "  replace_color = abs(np.round(color / np.sum(non_zero)) - 255)\n",
      "/tmp/ipykernel_28042/3602867495.py:12: RuntimeWarning: invalid value encountered in cast\n",
      "  img[np.logical_not(non_zero)] = replace_color\n"
     ]
    },
    {
     "data": {
      "application/vnd.jupyter.widget-view+json": {
       "model_id": "9acfe0ee898f463d9c4aec621af992ee",
       "version_major": 2,
       "version_minor": 0
      },
      "text/plain": [
       "valid:   0%|          | 0/15150 [00:00<?, ?it/s]"
      ]
     },
     "metadata": {},
     "output_type": "display_data"
    },
    {
     "data": {
      "application/vnd.jupyter.widget-view+json": {
       "model_id": "e7920d32fa5449bf8875902a8abd83af",
       "version_major": 2,
       "version_minor": 0
      },
      "text/plain": [
       "test:   0%|          | 0/10100 [00:00<?, ?it/s]"
      ]
     },
     "metadata": {},
     "output_type": "display_data"
    }
   ],
   "source": [
    "for source in [\"train\", \"valid\", \"test\"]:\n",
    "    files = list(Path(DATA_PATH / \"nobg_input\" / source).rglob(\"*.*\"))\n",
    "    with tqdm(total=len(files), desc=source) as pbar, ThreadPoolExecutor() as executor:\n",
    "        for _ in executor.map(fill_blanks, files):\n",
    "            pbar.update(1)\n"
   ]
  }
 ],
 "metadata": {
  "kernelspec": {
   "display_name": ".venv",
   "language": "python",
   "name": "python3"
  },
  "language_info": {
   "codemirror_mode": {
    "name": "ipython",
    "version": 3
   },
   "file_extension": ".py",
   "mimetype": "text/x-python",
   "name": "python",
   "nbconvert_exporter": "python",
   "pygments_lexer": "ipython3",
   "version": "3.11.10"
  }
 },
 "nbformat": 4,
 "nbformat_minor": 2
}
