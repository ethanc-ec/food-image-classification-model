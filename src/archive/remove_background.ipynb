{
 "cells": [
  {
   "cell_type": "code",
   "execution_count": 1,
   "metadata": {},
   "outputs": [
    {
     "data": {
      "text/html": [
       "<style>\n",
       ".cell-output-ipywidget-background {\n",
       "    background-color: transparent !important;\n",
       "}\n",
       ":root {\n",
       "    --jp-widgets-color: var(--vscode-editor-foreground);\n",
       "    --jp-widgets-font-size: var(--vscode-editor-font-size);\n",
       "}\n",
       "</style>\n"
      ],
      "text/plain": [
       "<IPython.core.display.HTML object>"
      ]
     },
     "metadata": {},
     "output_type": "display_data"
    }
   ],
   "source": [
    "%%html\n",
    "<style>\n",
    ".cell-output-ipywidget-background {\n",
    "    background-color: transparent !important;\n",
    "}\n",
    ":root {\n",
    "    --jp-widgets-color: var(--vscode-editor-foreground);\n",
    "    --jp-widgets-font-size: var(--vscode-editor-font-size);\n",
    "}\n",
    "</style>"
   ]
  },
  {
   "cell_type": "code",
   "execution_count": 2,
   "metadata": {},
   "outputs": [],
   "source": [
    "from rembg import new_session, remove\n",
    "from pathlib import Path\n",
    "from tqdm.notebook import tqdm\n",
    "from PIL import Image\n",
    "from concurrent.futures import ThreadPoolExecutor\n",
    "from itertools import repeat"
   ]
  },
  {
   "cell_type": "code",
   "execution_count": 3,
   "metadata": {},
   "outputs": [],
   "source": [
    "session = new_session(\"u2net\",  ['CUDAExecutionProvider'])\n",
    "DATA_PATH = Path.cwd().parent / \"data\"\n",
    "REGENERATE = False"
   ]
  },
  {
   "cell_type": "code",
   "execution_count": 6,
   "metadata": {},
   "outputs": [],
   "source": [
    "def process_image(image_path: Path):\n",
    "    sink = Path(str(image_path).replace('base_jpg', 'no_bg_png').replace('jpg', 'png'))\n",
    "    if REGENERATE or not sink.exists():\n",
    "        with Image.open(image_path) as img:\n",
    "            img = remove(img, session=session, bgcolor=(0, 0, 0, 0), post_process_mask=True)\n",
    "            img.save(sink, \"PNG\")\n",
    "    return"
   ]
  },
  {
   "cell_type": "code",
   "execution_count": null,
   "metadata": {},
   "outputs": [
    {
     "data": {
      "application/vnd.jupyter.widget-view+json": {
       "model_id": "aa205d69a9ad46778c8fde040948a39a",
       "version_major": 2,
       "version_minor": 0
      },
      "text/plain": [
       "food101-train:   0%|          | 0/75750 [00:00<?, ?it/s]"
      ]
     },
     "metadata": {},
     "output_type": "display_data"
    },
    {
     "data": {
      "application/vnd.jupyter.widget-view+json": {
       "model_id": "3ebf223954194a0bb317a10296652bb2",
       "version_major": 2,
       "version_minor": 0
      },
      "text/plain": [
       "food101-validation:   0%|          | 0/25250 [00:00<?, ?it/s]"
      ]
     },
     "metadata": {},
     "output_type": "display_data"
    }
   ],
   "source": [
    "for dataset in ['food101-train', 'food101-validation']:\n",
    "    all_files = list(Path(f'{DATA_PATH}/base_jpg/{dataset}').glob('*.jpg'))\n",
    "    Path(f'{DATA_PATH}/base_jpg/{dataset}').mkdir(parents=True, exist_ok=True)\n",
    "    Path(f'{DATA_PATH}/no_bg_png/{dataset}').mkdir(parents=True, exist_ok=True)\n",
    "\n",
    "    with tqdm(total=len(all_files), desc=dataset) as pbar:\n",
    "        with ThreadPoolExecutor() as executor:\n",
    "            for _ in executor.map(process_image, all_files):\n",
    "                pbar.update(1)\n",
    "\n",
    "    # for file in tqdm(all_files, desc=dataset):\n",
    "    #     input_path = Path(file)\n",
    "    #     output_path = Path(f'{DATA_PATH}/no_bg_jpg/{dataset}/{file.name}')\n",
    "\n",
    "    #     if output_path.exists() and not REGENERATE: continue\n",
    "\n",
    "    #     with open(input_path, 'rb') as i:\n",
    "    #         image = Image.open(i)\n",
    "    #         output = remove(image, session=session, bgcolor=(0, 0, 0, 0), post_process_mask=True)\n",
    "    #         output.save(output_path, \"PNG\")"
   ]
  },
  {
   "cell_type": "code",
   "execution_count": null,
   "metadata": {},
   "outputs": [],
   "source": []
  }
 ],
 "metadata": {
  "kernelspec": {
   "display_name": ".venv",
   "language": "python",
   "name": "python3"
  },
  "language_info": {
   "codemirror_mode": {
    "name": "ipython",
    "version": 3
   },
   "file_extension": ".py",
   "mimetype": "text/x-python",
   "name": "python",
   "nbconvert_exporter": "python",
   "pygments_lexer": "ipython3",
   "version": "3.11.10"
  }
 },
 "nbformat": 4,
 "nbformat_minor": 2
}
