{
 "cells": [
  {
   "cell_type": "code",
   "execution_count": 1,
   "metadata": {},
   "outputs": [],
   "source": [
    "from pathlib import Path\n",
    "import polars as pl\n",
    "from PIL import Image\n",
    "import json\n",
    "from concurrent.futures import ThreadPoolExecutor\n",
    "from io import BytesIO\n",
    "from itertools import repeat\n",
    "\n",
    "DATA_PATH = Path.cwd().parent / \"data\""
   ]
  },
  {
   "cell_type": "code",
   "execution_count": 2,
   "metadata": {},
   "outputs": [],
   "source": [
    "def process_base(row, target_dataset: str):\n",
    "    image, filename, label = row\n",
    "    Image.open(BytesIO(image)).save(f\"{DATA_PATH}/base_jpg/{target_dataset}/{filename}\")\n",
    "    return filename, label"
   ]
  },
  {
   "cell_type": "code",
   "execution_count": 5,
   "metadata": {},
   "outputs": [
    {
     "name": "stdout",
     "output_type": "stream",
     "text": [
      "Processing food101-train\n",
      "Read 75750 images\n",
      "Processed 75750 images\n",
      "Saved mappings to food101-train-mappings.json\n",
      "Processing food101-validation\n",
      "Read 25250 images\n",
      "Processed 25250 images\n",
      "Saved mappings to food101-validation-mappings.json\n"
     ]
    }
   ],
   "source": [
    "for dataset in [\"food101-train\", \"food101-validation\"]:\n",
    "    print(f\"Processing {dataset}\")\n",
    "\n",
    "    data = pl.scan_parquet(DATA_PATH / f\"{dataset}.parquet\").select(pl.col(\"image\"), pl.col(\"label\")).unnest(\"image\").collect()\n",
    "\n",
    "    print(f\"Read {data.select(pl.len()).item()} images\")\n",
    "\n",
    "    with ThreadPoolExecutor() as executor:\n",
    "        results = dict(executor.map(process_base, data.iter_rows(), repeat(dataset)))\n",
    "\n",
    "    print(f\"Processed {len(results)} images\")\n",
    "\n",
    "    with Path(DATA_PATH / f\"{dataset}-mappings.json\").open(\"w\") as f:\n",
    "        json.dump(results, f, indent=4)\n",
    "        \n",
    "    print(f\"Saved mappings to {dataset}-mappings.json\")"
   ]
  },
  {
   "cell_type": "code",
   "execution_count": null,
   "metadata": {},
   "outputs": [],
   "source": []
  }
 ],
 "metadata": {
  "kernelspec": {
   "display_name": ".venv",
   "language": "python",
   "name": "python3"
  },
  "language_info": {
   "codemirror_mode": {
    "name": "ipython",
    "version": 3
   },
   "file_extension": ".py",
   "mimetype": "text/x-python",
   "name": "python",
   "nbconvert_exporter": "python",
   "pygments_lexer": "ipython3",
   "version": "3.11.10"
  }
 },
 "nbformat": 4,
 "nbformat_minor": 2
}
