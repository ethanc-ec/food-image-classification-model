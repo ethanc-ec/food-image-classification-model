{
 "cells": [
  {
   "cell_type": "code",
   "execution_count": 1,
   "metadata": {},
   "outputs": [],
   "source": [
    "import polars as pl\n",
    "import numpy as np\n",
    "import torch\n",
    "from torchvision.transforms import v2\n",
    "from PIL import Image\n",
    "import io\n",
    "import matplotlib.pyplot as plt\n",
    "from concurrent.futures import ThreadPoolExecutor\n",
    "import json\n",
    "\n",
    "from pathlib import Path\n",
    "from rembg import remove, new_session\n",
    "\n",
    "DATA_PATH = Path.cwd().parent / \"data\""
   ]
  },
  {
   "cell_type": "code",
   "execution_count": 2,
   "metadata": {},
   "outputs": [],
   "source": [
    "session = new_session(\"sam\")"
   ]
  },
  {
   "cell_type": "code",
   "execution_count": null,
   "metadata": {},
   "outputs": [],
   "source": [
    "device = torch.device(\"cuda\" if torch.cuda.is_available() else \"cpu\")\n",
    "if torch.cuda.is_available():\n",
    "    print(torch.cuda.get_device_name(0))"
   ]
  },
  {
   "cell_type": "code",
   "execution_count": null,
   "metadata": {},
   "outputs": [],
   "source": [
    "# transforms = v2.Compose([\n",
    "#     v2.ToImage(),  # Convert to tensor, only needed if you had a PIL image\n",
    "#     v2.ToDtype(torch.uint8, scale=True),  # optional, most input are already uint8 at this point\n",
    "#     v2.Resize(size=(224, 224), antialias=True),  # Or Resize(antialias=True)\n",
    "#     v2.ToDtype(torch.float32, scale=True),  # Normalize expects float input\n",
    "#     # v2.Normalize(mean=[0.485, 0.456, 0.406], std=[0.229, 0.224, 0.225]),\n",
    "# ])"
   ]
  },
  {
   "cell_type": "code",
   "execution_count": null,
   "metadata": {},
   "outputs": [],
   "source": [
    "data = pl.scan_parquet(DATA_PATH / \"food101-validation.parquet\")\n",
    "print(data.select(pl.len()).collect().item())\n",
    "test_data = data.head(10).collect()\n",
    "test_data"
   ]
  },
  {
   "cell_type": "code",
   "execution_count": null,
   "metadata": {},
   "outputs": [],
   "source": [
    "def process_base(row):\n",
    "    image, filename, label = row\n",
    "    Image.open(io.BytesIO(image)).save(f\"{DATA_PATH}/base_jpg/food101-validation/{filename}\")\n",
    "    return filename, label"
   ]
  },
  {
   "cell_type": "code",
   "execution_count": null,
   "metadata": {},
   "outputs": [],
   "source": [
    "full_data = data.select(pl.col(\"image\"), pl.col(\"label\")).unnest(\"image\").collect()"
   ]
  },
  {
   "cell_type": "code",
   "execution_count": null,
   "metadata": {},
   "outputs": [],
   "source": [
    "with ThreadPoolExecutor() as executor:\n",
    "    results = dict(executor.map(process_base, full_data.iter_rows()))\n",
    "results"
   ]
  },
  {
   "cell_type": "code",
   "execution_count": null,
   "metadata": {},
   "outputs": [],
   "source": [
    "with Path(DATA_PATH / \"food101-validation-mappings.json\").open(\"w\") as f:\n",
    "    json.dump(results, f)"
   ]
  },
  {
   "cell_type": "code",
   "execution_count": null,
   "metadata": {},
   "outputs": [],
   "source": [
    "test_data['image'][0]['path']"
   ]
  },
  {
   "cell_type": "code",
   "execution_count": null,
   "metadata": {},
   "outputs": [],
   "source": [
    "test = test_data[9]\n",
    "image = Image.open(io.BytesIO(test['image'][0]['bytes']))\n",
    "image"
   ]
  },
  {
   "cell_type": "code",
   "execution_count": null,
   "metadata": {},
   "outputs": [],
   "source": [
    "image.save(f\"food_images/{test['label'][0]}.jpg\")"
   ]
  },
  {
   "cell_type": "code",
   "execution_count": null,
   "metadata": {},
   "outputs": [],
   "source": [
    "with open(f\"food_images/{test['label'][0]}.jpg\", \"rb\") as f:\n",
    "    image = Image.open(f).convert(\"RGBA\")\n",
    "orig_img = np.count_nonzero(np.array(image)[:, :, 3] > 0)\n",
    "image = remove(image, model=session, bgcolor=(0, 0, 0, 0), post_process_mask=True)\n",
    "# image.save(f\"food_images/{test['label'][0]}_no_bg.jpg\")\n",
    "post_img = np.count_nonzero(np.array(image)[:, :, 3] > 0)\n",
    "\n",
    "print(f\"Percent removed: {100 - (post_img / orig_img * 100)}\")\n",
    "\n",
    "image"
   ]
  },
  {
   "cell_type": "code",
   "execution_count": null,
   "metadata": {},
   "outputs": [],
   "source": [
    "io.BytesIO(image.tobytes()).getvalue()[:100]"
   ]
  },
  {
   "cell_type": "code",
   "execution_count": null,
   "metadata": {},
   "outputs": [],
   "source": [
    "%% true\n",
    "# Performant way to remove background from images\n",
    "\n",
    "from pathlib import Path\n",
    "from rembg import remove, new_session\n",
    "\n",
    "session = new_session()\n",
    "\n",
    "for file in Path('path/to/folder').glob('*.png'):\n",
    "    input_path = str(file)\n",
    "    output_path = str(file.parent / (file.stem + \".out.png\"))\n",
    "\n",
    "    with open(input_path, 'rb') as i:\n",
    "        with open(output_path, 'wb') as o:\n",
    "            input = i.read()\n",
    "            output = remove(input, session=session)\n",
    "            o.write(output)"
   ]
  },
  {
   "cell_type": "code",
   "execution_count": null,
   "metadata": {},
   "outputs": [],
   "source": []
  }
 ],
 "metadata": {
  "kernelspec": {
   "display_name": ".venv",
   "language": "python",
   "name": "python3"
  },
  "language_info": {
   "codemirror_mode": {
    "name": "ipython",
    "version": 3
   },
   "file_extension": ".py",
   "mimetype": "text/x-python",
   "name": "python",
   "nbconvert_exporter": "python",
   "pygments_lexer": "ipython3",
   "version": "3.11.10"
  }
 },
 "nbformat": 4,
 "nbformat_minor": 2
}
