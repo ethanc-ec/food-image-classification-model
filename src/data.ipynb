{
 "cells": [
  {
   "cell_type": "code",
   "execution_count": 5,
   "metadata": {},
   "outputs": [
    {
     "data": {
      "text/plain": [
       "WindowsPath('c:/Users/ethan/Documents/GitHub/ds340-project/data')"
      ]
     },
     "execution_count": 5,
     "metadata": {},
     "output_type": "execute_result"
    }
   ],
   "source": [
    "from pathlib import Path\n",
    "import polars as pl\n",
    "\n",
    "data_path = Path.cwd().parent / \"data\"\n",
    "data_path"
   ]
  },
  {
   "cell_type": "code",
   "execution_count": 6,
   "metadata": {},
   "outputs": [],
   "source": [
    "if not Path(data_path / \"food101-train.parquet\").exists():\n",
    "    splits = {'train': 'data/train-*.parquet', 'validation': 'data/validation-*.parquet'}\n",
    "    food101_train = pl.read_parquet('hf://datasets/ethz/food101/' + splits['train'])\n",
    "    food101_train.write_parquet(data_path / \"food101-train.parquet\")\n",
    "\n",
    "else:\n",
    "    food101_train = pl.read_parquet(data_path / \"food101-train.parquet\")"
   ]
  },
  {
   "cell_type": "code",
   "execution_count": 7,
   "metadata": {},
   "outputs": [],
   "source": [
    "if not Path(data_path / \"food101-validation.parquet\").exists():\n",
    "    splits = {'train': 'data/train-*.parquet', 'validation': 'data/validation-*.parquet'}\n",
    "    food101_val = pl.read_parquet('hf://datasets/ethz/food101/' + splits['validation'])\n",
    "    food101_val.write_parquet(data_path / \"food101-validation.parquet\")\n",
    "\n",
    "else:\n",
    "    food101_val = pl.read_parquet(data_path / \"food101-validation.parquet\")"
   ]
  },
  {
   "cell_type": "code",
   "execution_count": 8,
   "metadata": {},
   "outputs": [],
   "source": [
    "if not Path(data_path / \"food102-train.parquet\").exists():\n",
    "    splits = {'train': 'data/train-*-of-*.parquet', 'test': 'data/test-*-of-*.parquet'}\n",
    "    food102_train = pl.read_parquet('hf://datasets/juliensimon/food102/' + splits['train'])\n",
    "    food102_train.write_parquet(data_path / \"food102-train.parquet\")\n",
    "\n",
    "else:\n",
    "    food102_train = pl.read_parquet(data_path / \"food102-train.parquet\")\n"
   ]
  },
  {
   "cell_type": "code",
   "execution_count": 9,
   "metadata": {},
   "outputs": [],
   "source": [
    "if not Path(data_path / \"food102-test.parquet\").exists():\n",
    "    splits = {'train': 'data/train-*-of-*.parquet', 'test': 'data/test-*-of-*.parquet'}\n",
    "    food102_test = pl.read_parquet('hf://datasets/juliensimon/food102/' + splits['test'])\n",
    "    food102_test.write_parquet(data_path / \"food102-test.parquet\")\n",
    "\n",
    "else:\n",
    "    food102_test = pl.read_parquet(data_path / \"food102-test.parquet\")\n"
   ]
  }
 ],
 "metadata": {
  "kernelspec": {
   "display_name": ".venv",
   "language": "python",
   "name": "python3"
  },
  "language_info": {
   "codemirror_mode": {
    "name": "ipython",
    "version": 3
   },
   "file_extension": ".py",
   "mimetype": "text/x-python",
   "name": "python",
   "nbconvert_exporter": "python",
   "pygments_lexer": "ipython3",
   "version": "3.12.6"
  }
 },
 "nbformat": 4,
 "nbformat_minor": 2
}
