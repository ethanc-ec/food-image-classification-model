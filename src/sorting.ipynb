{
 "cells": [
  {
   "cell_type": "code",
   "execution_count": 1,
   "metadata": {},
   "outputs": [
    {
     "data": {
      "text/html": [
       "<style>\n",
       ".cell-output-ipywidget-background {\n",
       "    background-color: transparent !important;\n",
       "}\n",
       ":root {\n",
       "    --jp-widgets-color: var(--vscode-editor-foreground);\n",
       "    --jp-widgets-font-size: var(--vscode-editor-font-size);\n",
       "}\n",
       "</style>\n"
      ],
      "text/plain": [
       "<IPython.core.display.HTML object>"
      ]
     },
     "metadata": {},
     "output_type": "display_data"
    }
   ],
   "source": [
    "%%html\n",
    "<style>\n",
    ".cell-output-ipywidget-background {\n",
    "    background-color: transparent !important;\n",
    "}\n",
    ":root {\n",
    "    --jp-widgets-color: var(--vscode-editor-foreground);\n",
    "    --jp-widgets-font-size: var(--vscode-editor-font-size);\n",
    "}\n",
    "</style>"
   ]
  },
  {
   "cell_type": "code",
   "execution_count": 2,
   "metadata": {},
   "outputs": [
    {
     "data": {
      "text/plain": [
       "PosixPath('/workspaces/ds340-project/data')"
      ]
     },
     "execution_count": 2,
     "metadata": {},
     "output_type": "execute_result"
    }
   ],
   "source": [
    "from PIL import Image\n",
    "from pathlib import Path\n",
    "import json\n",
    "from concurrent.futures import ThreadPoolExecutor\n",
    "from itertools import repeat\n",
    "from tqdm.notebook import tqdm, trange\n",
    "from shutil import rmtree \n",
    "import os\n",
    "\n",
    "DATA_PATH = Path.cwd().parent / \"data\" if Path.cwd().name == \"src\" else Path.cwd() / \"data\"\n",
    "\n",
    "BASE_INPUT = DATA_PATH / \"base_input\"\n",
    "BASE_SOURCE = DATA_PATH / \"base_jpg\"\n",
    "NOBG_INPUT = DATA_PATH / \"nobg_input\"\n",
    "NOBG_SOURCE = DATA_PATH / \"nobg_jpg\"\n",
    "\n",
    "DATA_PATH"
   ]
  },
  {
   "cell_type": "markdown",
   "metadata": {},
   "source": [
    "## Wiping and Creating Folders"
   ]
  },
  {
   "cell_type": "code",
   "execution_count": 3,
   "metadata": {},
   "outputs": [],
   "source": [
    "def remake(dir):\n",
    "    if dir.exists():\n",
    "        rmtree(dir)\n",
    "    dir.mkdir(parents=True)"
   ]
  },
  {
   "cell_type": "code",
   "execution_count": 4,
   "metadata": {},
   "outputs": [
    {
     "data": {
      "application/vnd.jupyter.widget-view+json": {
       "model_id": "3a112bd123364e21a8711a2200af7c95",
       "version_major": 2,
       "version_minor": 0
      },
      "text/plain": [
       "/workspaces/ds340-project/data/base_input/train:   0%|          | 0/101 [00:00<?, ?it/s]"
      ]
     },
     "metadata": {},
     "output_type": "display_data"
    },
    {
     "data": {
      "application/vnd.jupyter.widget-view+json": {
       "model_id": "9c95094e3a0a43e28c674498ac96bd1f",
       "version_major": 2,
       "version_minor": 0
      },
      "text/plain": [
       "/workspaces/ds340-project/data/base_input/valid:   0%|          | 0/101 [00:00<?, ?it/s]"
      ]
     },
     "metadata": {},
     "output_type": "display_data"
    },
    {
     "data": {
      "application/vnd.jupyter.widget-view+json": {
       "model_id": "ec5895bb08eb46d68dcd32054df8b7f2",
       "version_major": 2,
       "version_minor": 0
      },
      "text/plain": [
       "/workspaces/ds340-project/data/base_input/test:   0%|          | 0/101 [00:00<?, ?it/s]"
      ]
     },
     "metadata": {},
     "output_type": "display_data"
    },
    {
     "data": {
      "application/vnd.jupyter.widget-view+json": {
       "model_id": "cd71668c1ec34573ac631c6e4c62d773",
       "version_major": 2,
       "version_minor": 0
      },
      "text/plain": [
       "/workspaces/ds340-project/data/nobg_input/train:   0%|          | 0/101 [00:00<?, ?it/s]"
      ]
     },
     "metadata": {},
     "output_type": "display_data"
    },
    {
     "data": {
      "application/vnd.jupyter.widget-view+json": {
       "model_id": "60aba09c498d4c968e1118850d92b4c2",
       "version_major": 2,
       "version_minor": 0
      },
      "text/plain": [
       "/workspaces/ds340-project/data/nobg_input/valid:   0%|          | 0/101 [00:00<?, ?it/s]"
      ]
     },
     "metadata": {},
     "output_type": "display_data"
    },
    {
     "data": {
      "application/vnd.jupyter.widget-view+json": {
       "model_id": "27d1dfa4eee9434dbb9430f2f8875c95",
       "version_major": 2,
       "version_minor": 0
      },
      "text/plain": [
       "/workspaces/ds340-project/data/nobg_input/test:   0%|          | 0/101 [00:00<?, ?it/s]"
      ]
     },
     "metadata": {},
     "output_type": "display_data"
    }
   ],
   "source": [
    "for outer in [BASE_INPUT, NOBG_INPUT]:\n",
    "    for inner in ['train', 'valid', 'test']:\n",
    "        with tqdm(total=101, desc=str(outer / inner)) as pbar, ThreadPoolExecutor() as executor:\n",
    "            for _ in executor.map(remake, [Path(outer / inner / f\"class_{label}\") for label in range(0, 100+1)]):\n",
    "                pbar.update(1)"
   ]
  },
  {
   "cell_type": "code",
   "execution_count": 5,
   "metadata": {},
   "outputs": [],
   "source": [
    "with Path(DATA_PATH / 'food101-train-mappings.json').open() as f:\n",
    "    train_maps = json.load(f)\n",
    "\n",
    "with Path(DATA_PATH / 'food101-validation-mappings.json').open() as f:\n",
    "    val_maps = json.load(f)\n"
   ]
  },
  {
   "cell_type": "markdown",
   "metadata": {},
   "source": [
    "## Moving Images to Folders"
   ]
  },
  {
   "cell_type": "code",
   "execution_count": 6,
   "metadata": {},
   "outputs": [],
   "source": [
    "def move_image(image_path, output_path, mapping):\n",
    "    class_folder = mapping[image_path.name]\n",
    "    if Path(output_path / f\"class_{class_folder}\" / image_path.name).exists(): return\n",
    "    Image.open(image_path).save(output_path / f\"class_{class_folder}\" / image_path.name)"
   ]
  },
  {
   "cell_type": "code",
   "execution_count": 7,
   "metadata": {},
   "outputs": [
    {
     "data": {
      "application/vnd.jupyter.widget-view+json": {
       "model_id": "be40701b4dee4379a1f2e501cf6ac7e7",
       "version_major": 2,
       "version_minor": 0
      },
      "text/plain": [
       "base_jpg/food101-train:   0%|          | 0/75750 [00:00<?, ?it/s]"
      ]
     },
     "metadata": {},
     "output_type": "display_data"
    },
    {
     "data": {
      "application/vnd.jupyter.widget-view+json": {
       "model_id": "d7962ac10fec41988f85f2cc8da24a30",
       "version_major": 2,
       "version_minor": 0
      },
      "text/plain": [
       "base_jpg/food101-validation:   0%|          | 0/25250 [00:00<?, ?it/s]"
      ]
     },
     "metadata": {},
     "output_type": "display_data"
    },
    {
     "data": {
      "application/vnd.jupyter.widget-view+json": {
       "model_id": "188a27fade07473988c49ae63a66ea90",
       "version_major": 2,
       "version_minor": 0
      },
      "text/plain": [
       "nobg_jpg/food101-train:   0%|          | 0/75750 [00:00<?, ?it/s]"
      ]
     },
     "metadata": {},
     "output_type": "display_data"
    },
    {
     "data": {
      "application/vnd.jupyter.widget-view+json": {
       "model_id": "ddba356317824674b5e4c940ccaff8b3",
       "version_major": 2,
       "version_minor": 0
      },
      "text/plain": [
       "nobg_jpg/food101-validation:   0%|          | 0/25250 [00:00<?, ?it/s]"
      ]
     },
     "metadata": {},
     "output_type": "display_data"
    }
   ],
   "source": [
    "for output_path, source_path in [(BASE_INPUT, BASE_SOURCE), (NOBG_INPUT, NOBG_SOURCE)]:\n",
    "    for output_point, source_point, mappings in [('train', 'food101-train', train_maps), ('valid', 'food101-validation', val_maps)]:\n",
    "        source_files = list(Path(source_path / source_point).glob(\"*.jpg\"))\n",
    "\n",
    "        with tqdm(total=len(source_files), desc=str(f\"{source_path.name}/{source_point}\")) as pbar, ThreadPoolExecutor() as executor:\n",
    "            for _ in executor.map(move_image, source_files, repeat(output_path / output_point), repeat(mappings)):\n",
    "                pbar.update(1)"
   ]
  },
  {
   "cell_type": "code",
   "execution_count": 8,
   "metadata": {},
   "outputs": [],
   "source": [
    "def rename_file(target_name, target_path):\n",
    "    target_path.rename(target_path.parent / f\"{target_name}{target_path.suffix}\")"
   ]
  },
  {
   "cell_type": "code",
   "execution_count": 9,
   "metadata": {},
   "outputs": [
    {
     "data": {
      "application/vnd.jupyter.widget-view+json": {
       "model_id": "49235078dbb2461c8741a4f6eeb03d30",
       "version_major": 2,
       "version_minor": 0
      },
      "text/plain": [
       "/workspaces/ds340-project/data/base_input/train:   0%|          | 0/75750 [00:00<?, ?it/s]"
      ]
     },
     "metadata": {},
     "output_type": "display_data"
    },
    {
     "data": {
      "application/vnd.jupyter.widget-view+json": {
       "model_id": "4a1fbe85acf64d749b8ee49cbeb0d51b",
       "version_major": 2,
       "version_minor": 0
      },
      "text/plain": [
       "/workspaces/ds340-project/data/base_input/valid:   0%|          | 0/25250 [00:00<?, ?it/s]"
      ]
     },
     "metadata": {},
     "output_type": "display_data"
    },
    {
     "data": {
      "application/vnd.jupyter.widget-view+json": {
       "model_id": "267d2e082ff64c1bb86b541539e73b0a",
       "version_major": 2,
       "version_minor": 0
      },
      "text/plain": [
       "/workspaces/ds340-project/data/nobg_input/train:   0%|          | 0/75750 [00:00<?, ?it/s]"
      ]
     },
     "metadata": {},
     "output_type": "display_data"
    },
    {
     "data": {
      "application/vnd.jupyter.widget-view+json": {
       "model_id": "d58c558b88c74eabb43b41072c4e2487",
       "version_major": 2,
       "version_minor": 0
      },
      "text/plain": [
       "/workspaces/ds340-project/data/nobg_input/valid:   0%|          | 0/25250 [00:00<?, ?it/s]"
      ]
     },
     "metadata": {},
     "output_type": "display_data"
    }
   ],
   "source": [
    "for outer in [BASE_INPUT, NOBG_INPUT]:\n",
    "    for inner in ['train', 'valid']:\n",
    "        with tqdm(total=len(list(Path(outer / inner).rglob(\"*.*\"))), desc=f\"{outer}/{inner}\") as pbar:\n",
    "            for label in range(0, 100+1):\n",
    "                files = [(idx+1, filename) for idx, filename in enumerate(Path(outer / inner / f\"class_{label}\").glob(\"*.*\"))]\n",
    "                with ThreadPoolExecutor() as executor:\n",
    "                    for _ in executor.map(rename_file, *zip(*files)):\n",
    "                        pbar.update(1)"
   ]
  },
  {
   "cell_type": "markdown",
   "metadata": {},
   "source": [
    "## Moving Images to Test Folders"
   ]
  },
  {
   "cell_type": "code",
   "execution_count": 10,
   "metadata": {},
   "outputs": [],
   "source": [
    "def move_test_image(image_path):\n",
    "    Image.open(image_path).save(Path(str(image_path).replace(\"valid\", \"test\")))\n",
    "    os.remove(image_path)"
   ]
  },
  {
   "cell_type": "code",
   "execution_count": 11,
   "metadata": {},
   "outputs": [
    {
     "data": {
      "application/vnd.jupyter.widget-view+json": {
       "model_id": "8519b891120349f8a9dbff4de1299fbb",
       "version_major": 2,
       "version_minor": 0
      },
      "text/plain": [
       "/workspaces/ds340-project/data/base_input/valid:   0%|          | 0/10100 [00:00<?, ?it/s]"
      ]
     },
     "metadata": {},
     "output_type": "display_data"
    },
    {
     "data": {
      "application/vnd.jupyter.widget-view+json": {
       "model_id": "9e0ea16d00ee4d418054337f58f2ae82",
       "version_major": 2,
       "version_minor": 0
      },
      "text/plain": [
       "/workspaces/ds340-project/data/nobg_input/valid:   0%|          | 0/10100 [00:00<?, ?it/s]"
      ]
     },
     "metadata": {},
     "output_type": "display_data"
    }
   ],
   "source": [
    "for outer in [BASE_INPUT, NOBG_INPUT]:\n",
    "    with tqdm(total=101*100, desc=f\"{outer}/{inner}\") as pbar:\n",
    "        for label in range(0, 100+1):\n",
    "            files = [file for file in Path(outer / 'valid' / f\"class_{label}\").glob(\"*.*\") if int(file.name[:-4]) > 150]\n",
    "            with ThreadPoolExecutor() as executor:\n",
    "                for _ in executor.map(move_test_image, files):\n",
    "                    pbar.update(1)"
   ]
  },
  {
   "cell_type": "code",
   "execution_count": null,
   "metadata": {},
   "outputs": [],
   "source": []
  }
 ],
 "metadata": {
  "kernelspec": {
   "display_name": ".venv",
   "language": "python",
   "name": "python3"
  },
  "language_info": {
   "codemirror_mode": {
    "name": "ipython",
    "version": 3
   },
   "file_extension": ".py",
   "mimetype": "text/x-python",
   "name": "python",
   "nbconvert_exporter": "python",
   "pygments_lexer": "ipython3",
   "version": "3.11.10"
  }
 },
 "nbformat": 4,
 "nbformat_minor": 2
}
