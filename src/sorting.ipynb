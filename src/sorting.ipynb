{
 "cells": [
  {
   "cell_type": "code",
   "execution_count": 1,
   "metadata": {},
   "outputs": [
    {
     "data": {
      "text/html": [
       "<style>\n",
       ".cell-output-ipywidget-background {\n",
       "    background-color: transparent !important;\n",
       "}\n",
       ":root {\n",
       "    --jp-widgets-color: var(--vscode-editor-foreground);\n",
       "    --jp-widgets-font-size: var(--vscode-editor-font-size);\n",
       "}\n",
       "</style>\n"
      ],
      "text/plain": [
       "<IPython.core.display.HTML object>"
      ]
     },
     "metadata": {},
     "output_type": "display_data"
    }
   ],
   "source": [
    "%%html\n",
    "<style>\n",
    ".cell-output-ipywidget-background {\n",
    "    background-color: transparent !important;\n",
    "}\n",
    ":root {\n",
    "    --jp-widgets-color: var(--vscode-editor-foreground);\n",
    "    --jp-widgets-font-size: var(--vscode-editor-font-size);\n",
    "}\n",
    "</style>"
   ]
  },
  {
   "cell_type": "code",
   "execution_count": 2,
   "metadata": {},
   "outputs": [],
   "source": [
    "from PIL import Image\n",
    "from pathlib import Path\n",
    "import json\n",
    "from concurrent.futures import ThreadPoolExecutor\n",
    "from itertools import repeat\n",
    "from tqdm.notebook import tqdm\n",
    "\n",
    "DATA_PATH = Path.cwd().parent / \"data\" if Path.cwd().name == \"src\" else Path.cwd() / \"data\"\n",
    "\n",
    "BASE_INPUT = DATA_PATH / \"base_input\"\n",
    "BASE_SOURCE = DATA_PATH / \"base_jpg\"\n",
    "NOBG_INPUT = DATA_PATH / \"nobg_input\"\n",
    "NOBG_SOURCE = DATA_PATH / \"nobg_png\""
   ]
  },
  {
   "cell_type": "code",
   "execution_count": 3,
   "metadata": {},
   "outputs": [],
   "source": [
    "for outer in [BASE_INPUT, NOBG_INPUT]:\n",
    "    for inner in ['train', 'valid']:\n",
    "        for label in range(0, 100+1):\n",
    "            Path(outer / inner / f\"class_{label}\").mkdir(parents=True, exist_ok=True)"
   ]
  },
  {
   "cell_type": "code",
   "execution_count": 5,
   "metadata": {},
   "outputs": [],
   "source": [
    "with Path(DATA_PATH / 'food101-train-mappings.json').open() as f:\n",
    "    train_maps = json.load(f)\n",
    "\n",
    "with Path(DATA_PATH / 'food101-validation-mappings.json').open() as f:\n",
    "    val_maps = json.load(f)\n"
   ]
  },
  {
   "cell_type": "code",
   "execution_count": 4,
   "metadata": {},
   "outputs": [],
   "source": [
    "def move_image(image_path, output_path, mapping):\n",
    "    class_folder = mapping[image_path.name.replace(\"png\", \"jpg\")]\n",
    "    if Path(output_path / f\"class_{class_folder}\" / image_path.name).exists(): return\n",
    "    Image.open(image_path).save(output_path / f\"class_{class_folder}\" / image_path.name)"
   ]
  },
  {
   "cell_type": "code",
   "execution_count": 6,
   "metadata": {},
   "outputs": [
    {
     "data": {
      "application/vnd.jupyter.widget-view+json": {
       "model_id": "edfd61d4f9a34a778f9b1c6121f45cb6",
       "version_major": 2,
       "version_minor": 0
      },
      "text/plain": [
       "/workspaces/ds340-project/data/base_jpg/food101-train:   0%|          | 0/75750 [00:00<?, ?it/s]"
      ]
     },
     "metadata": {},
     "output_type": "display_data"
    },
    {
     "data": {
      "application/vnd.jupyter.widget-view+json": {
       "model_id": "bb22b1e6a2094adaa391007de899d1d1",
       "version_major": 2,
       "version_minor": 0
      },
      "text/plain": [
       "/workspaces/ds340-project/data/base_jpg/food101-validation:   0%|          | 0/25250 [00:00<?, ?it/s]"
      ]
     },
     "metadata": {},
     "output_type": "display_data"
    },
    {
     "data": {
      "application/vnd.jupyter.widget-view+json": {
       "model_id": "df82c15740904443924b21287e226e30",
       "version_major": 2,
       "version_minor": 0
      },
      "text/plain": [
       "/workspaces/ds340-project/data/nobg_png/food101-train:   0%|          | 0/75750 [00:00<?, ?it/s]"
      ]
     },
     "metadata": {},
     "output_type": "display_data"
    },
    {
     "data": {
      "application/vnd.jupyter.widget-view+json": {
       "model_id": "e138cd37ea8d4e38b5fab23a26990d4f",
       "version_major": 2,
       "version_minor": 0
      },
      "text/plain": [
       "/workspaces/ds340-project/data/nobg_png/food101-validation:   0%|          | 0/25250 [00:00<?, ?it/s]"
      ]
     },
     "metadata": {},
     "output_type": "display_data"
    }
   ],
   "source": [
    "for output_path, source_path in [(BASE_INPUT, BASE_SOURCE), (NOBG_INPUT, NOBG_SOURCE)]:\n",
    "    for output_point, source_point, mappings in [('train', 'food101-train', train_maps), ('valid', 'food101-validation', val_maps)]:\n",
    "        source_files = list(Path(source_path / source_point).glob(\"*.jpg\" if \"jpg\" in str(source_path) else \"*.png\"))\n",
    "\n",
    "        with tqdm(total=len(source_files), desc=str(source_path / source_point)) as pbar, ThreadPoolExecutor(max_workers=32) as executor:\n",
    "            for _ in executor.map(move_image, source_files, repeat(output_path / output_point), repeat(mappings)):\n",
    "                pbar.update(1)"
   ]
  },
  {
   "cell_type": "code",
   "execution_count": 7,
   "metadata": {},
   "outputs": [],
   "source": [
    "def rename_file(target_name, target_path):\n",
    "    target_path.rename(target_path.parent / f\"{target_name}{target_path.suffix}\")"
   ]
  },
  {
   "cell_type": "code",
   "execution_count": 8,
   "metadata": {},
   "outputs": [
    {
     "data": {
      "application/vnd.jupyter.widget-view+json": {
       "model_id": "2783a502ba0f4ccb8d6e4724ed3c5bff",
       "version_major": 2,
       "version_minor": 0
      },
      "text/plain": [
       "/workspaces/ds340-project/data/base_input/train:   0%|          | 0/75750 [00:00<?, ?it/s]"
      ]
     },
     "metadata": {},
     "output_type": "display_data"
    },
    {
     "data": {
      "application/vnd.jupyter.widget-view+json": {
       "model_id": "09bfc7c74ec54932934506ff350dfa67",
       "version_major": 2,
       "version_minor": 0
      },
      "text/plain": [
       "/workspaces/ds340-project/data/base_input/valid:   0%|          | 0/25250 [00:00<?, ?it/s]"
      ]
     },
     "metadata": {},
     "output_type": "display_data"
    },
    {
     "data": {
      "application/vnd.jupyter.widget-view+json": {
       "model_id": "ff4f449b38194f08b2ccea27f5aea2a5",
       "version_major": 2,
       "version_minor": 0
      },
      "text/plain": [
       "/workspaces/ds340-project/data/nobg_input/train:   0%|          | 0/75750 [00:00<?, ?it/s]"
      ]
     },
     "metadata": {},
     "output_type": "display_data"
    },
    {
     "data": {
      "application/vnd.jupyter.widget-view+json": {
       "model_id": "4652fee73c814187a3580f258470b9ff",
       "version_major": 2,
       "version_minor": 0
      },
      "text/plain": [
       "/workspaces/ds340-project/data/nobg_input/valid:   0%|          | 0/25250 [00:00<?, ?it/s]"
      ]
     },
     "metadata": {},
     "output_type": "display_data"
    }
   ],
   "source": [
    "for outer in [BASE_INPUT, NOBG_INPUT]:\n",
    "    for inner in ['train', 'valid']:\n",
    "        with tqdm(total=len(list(Path(outer / inner).rglob(\"*.*\"))), desc=f\"{outer}/{inner}\") as pbar:\n",
    "            for label in range(0, 100+1):\n",
    "                files = [(idx+1, filename) for idx, filename in enumerate(Path(outer / inner / f\"class_{label}\").glob(\"*.*\"))]\n",
    "                with ThreadPoolExecutor(max_workers=32) as executor:\n",
    "                    for _ in executor.map(rename_file, *zip(*files)):\n",
    "                        pbar.update(1)"
   ]
  },
  {
   "cell_type": "code",
   "execution_count": null,
   "metadata": {},
   "outputs": [],
   "source": []
  }
 ],
 "metadata": {
  "kernelspec": {
   "display_name": ".venv",
   "language": "python",
   "name": "python3"
  },
  "language_info": {
   "codemirror_mode": {
    "name": "ipython",
    "version": 3
   },
   "file_extension": ".py",
   "mimetype": "text/x-python",
   "name": "python",
   "nbconvert_exporter": "python",
   "pygments_lexer": "ipython3",
   "version": "3.11.10"
  }
 },
 "nbformat": 4,
 "nbformat_minor": 2
}
