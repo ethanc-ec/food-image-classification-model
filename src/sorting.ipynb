{
 "cells": [
  {
   "cell_type": "code",
   "execution_count": 1,
   "metadata": {},
   "outputs": [
    {
     "data": {
      "text/html": [
       "<style>\n",
       ".cell-output-ipywidget-background {\n",
       "    background-color: transparent !important;\n",
       "}\n",
       ":root {\n",
       "    --jp-widgets-color: var(--vscode-editor-foreground);\n",
       "    --jp-widgets-font-size: var(--vscode-editor-font-size);\n",
       "}\n",
       "</style>\n"
      ],
      "text/plain": [
       "<IPython.core.display.HTML object>"
      ]
     },
     "metadata": {},
     "output_type": "display_data"
    }
   ],
   "source": [
    "%%html\n",
    "<style>\n",
    ".cell-output-ipywidget-background {\n",
    "    background-color: transparent !important;\n",
    "}\n",
    ":root {\n",
    "    --jp-widgets-color: var(--vscode-editor-foreground);\n",
    "    --jp-widgets-font-size: var(--vscode-editor-font-size);\n",
    "}\n",
    "</style>"
   ]
  },
  {
   "cell_type": "code",
   "execution_count": 2,
   "metadata": {},
   "outputs": [
    {
     "data": {
      "text/plain": [
       "PosixPath('/workspaces/ds340-project/data')"
      ]
     },
     "execution_count": 2,
     "metadata": {},
     "output_type": "execute_result"
    }
   ],
   "source": [
    "from PIL import Image\n",
    "from pathlib import Path\n",
    "import json\n",
    "from concurrent.futures import ThreadPoolExecutor\n",
    "from itertools import repeat\n",
    "from tqdm.notebook import tqdm, trange\n",
    "from shutil import rmtree \n",
    "import os\n",
    "\n",
    "DATA_PATH = Path.cwd().parent / \"data\" if Path.cwd().name == \"src\" else Path.cwd() / \"data\"\n",
    "\n",
    "BASE_INPUT = DATA_PATH / \"base_input\"\n",
    "BASE_SOURCE = DATA_PATH / \"base_jpg\"\n",
    "NOBG_INPUT = DATA_PATH / \"nobg_input\"\n",
    "NOBG_SOURCE = DATA_PATH / \"nobg_png\"\n",
    "\n",
    "DATA_PATH"
   ]
  },
  {
   "cell_type": "markdown",
   "metadata": {},
   "source": [
    "## Wiping and Creating Folders"
   ]
  },
  {
   "cell_type": "code",
   "execution_count": 3,
   "metadata": {},
   "outputs": [],
   "source": [
    "def remake(dir):\n",
    "    if dir.exists():\n",
    "        rmtree(dir)\n",
    "    dir.mkdir(parents=True)"
   ]
  },
  {
   "cell_type": "code",
   "execution_count": 4,
   "metadata": {},
   "outputs": [
    {
     "data": {
      "application/vnd.jupyter.widget-view+json": {
       "model_id": "52291cba930d4f58b4673b0d864a9a97",
       "version_major": 2,
       "version_minor": 0
      },
      "text/plain": [
       "/workspaces/ds340-project/data/base_input/train:   0%|          | 0/101 [00:00<?, ?it/s]"
      ]
     },
     "metadata": {},
     "output_type": "display_data"
    },
    {
     "data": {
      "application/vnd.jupyter.widget-view+json": {
       "model_id": "7586840c178845449270e7b7e738e735",
       "version_major": 2,
       "version_minor": 0
      },
      "text/plain": [
       "/workspaces/ds340-project/data/base_input/valid:   0%|          | 0/101 [00:00<?, ?it/s]"
      ]
     },
     "metadata": {},
     "output_type": "display_data"
    },
    {
     "data": {
      "application/vnd.jupyter.widget-view+json": {
       "model_id": "f22223ea0df0439ba65aeaa388f026f5",
       "version_major": 2,
       "version_minor": 0
      },
      "text/plain": [
       "/workspaces/ds340-project/data/base_input/test:   0%|          | 0/101 [00:00<?, ?it/s]"
      ]
     },
     "metadata": {},
     "output_type": "display_data"
    },
    {
     "data": {
      "application/vnd.jupyter.widget-view+json": {
       "model_id": "406a3fe05485422384bdcc8d0dabb7c7",
       "version_major": 2,
       "version_minor": 0
      },
      "text/plain": [
       "/workspaces/ds340-project/data/nobg_input/train:   0%|          | 0/101 [00:00<?, ?it/s]"
      ]
     },
     "metadata": {},
     "output_type": "display_data"
    },
    {
     "data": {
      "application/vnd.jupyter.widget-view+json": {
       "model_id": "54b7f636982a4761b0607d7f56850dd9",
       "version_major": 2,
       "version_minor": 0
      },
      "text/plain": [
       "/workspaces/ds340-project/data/nobg_input/valid:   0%|          | 0/101 [00:00<?, ?it/s]"
      ]
     },
     "metadata": {},
     "output_type": "display_data"
    },
    {
     "data": {
      "application/vnd.jupyter.widget-view+json": {
       "model_id": "4a105f485aa548b8a6d9b1c682d5c461",
       "version_major": 2,
       "version_minor": 0
      },
      "text/plain": [
       "/workspaces/ds340-project/data/nobg_input/test:   0%|          | 0/101 [00:00<?, ?it/s]"
      ]
     },
     "metadata": {},
     "output_type": "display_data"
    }
   ],
   "source": [
    "for outer in [BASE_INPUT, NOBG_INPUT]:\n",
    "    for inner in ['train', 'valid', 'test']:\n",
    "        with tqdm(total=101, desc=str(outer / inner)) as pbar, ThreadPoolExecutor() as executor:\n",
    "            for _ in executor.map(remake, [Path(outer / inner / f\"class_{label}\") for label in range(0, 100+1)]):\n",
    "                pbar.update(1)"
   ]
  },
  {
   "cell_type": "code",
   "execution_count": 5,
   "metadata": {},
   "outputs": [],
   "source": [
    "with Path(DATA_PATH / 'food101-train-mappings.json').open() as f:\n",
    "    train_maps = json.load(f)\n",
    "\n",
    "with Path(DATA_PATH / 'food101-validation-mappings.json').open() as f:\n",
    "    val_maps = json.load(f)\n"
   ]
  },
  {
   "cell_type": "code",
   "execution_count": 6,
   "metadata": {},
   "outputs": [],
   "source": [
    "def move_image(image_path, output_path, mapping):\n",
    "    class_folder = mapping[image_path.name.replace(\"png\", \"jpg\")]\n",
    "    if Path(output_path / f\"class_{class_folder}\" / image_path.name).exists(): return\n",
    "    Image.open(image_path).save(output_path / f\"class_{class_folder}\" / image_path.name)"
   ]
  },
  {
   "cell_type": "code",
   "execution_count": 8,
   "metadata": {},
   "outputs": [
    {
     "data": {
      "application/vnd.jupyter.widget-view+json": {
       "model_id": "c76f361e9364489187ba172dc4cb2ee4",
       "version_major": 2,
       "version_minor": 0
      },
      "text/plain": [
       "base_jpg/food101-train:   0%|          | 0/75750 [00:00<?, ?it/s]"
      ]
     },
     "metadata": {},
     "output_type": "display_data"
    },
    {
     "data": {
      "application/vnd.jupyter.widget-view+json": {
       "model_id": "b32f8efcfd39463a881844d14b1b5992",
       "version_major": 2,
       "version_minor": 0
      },
      "text/plain": [
       "base_jpg/food101-validation:   0%|          | 0/25250 [00:00<?, ?it/s]"
      ]
     },
     "metadata": {},
     "output_type": "display_data"
    },
    {
     "data": {
      "application/vnd.jupyter.widget-view+json": {
       "model_id": "9215732fd3784bbd9677325d0ad3fba0",
       "version_major": 2,
       "version_minor": 0
      },
      "text/plain": [
       "nobg_png/food101-train:   0%|          | 0/75750 [00:00<?, ?it/s]"
      ]
     },
     "metadata": {},
     "output_type": "display_data"
    },
    {
     "data": {
      "application/vnd.jupyter.widget-view+json": {
       "model_id": "bca81b3034ad40fa99edd0112582d459",
       "version_major": 2,
       "version_minor": 0
      },
      "text/plain": [
       "nobg_png/food101-validation:   0%|          | 0/25250 [00:00<?, ?it/s]"
      ]
     },
     "metadata": {},
     "output_type": "display_data"
    }
   ],
   "source": [
    "for output_path, source_path in [(BASE_INPUT, BASE_SOURCE), (NOBG_INPUT, NOBG_SOURCE)]:\n",
    "    for output_point, source_point, mappings in [('train', 'food101-train', train_maps), ('valid', 'food101-validation', val_maps)]:\n",
    "        source_files = list(Path(source_path / source_point).glob(\"*.jpg\" if \"jpg\" in str(source_path) else \"*.png\"))\n",
    "\n",
    "        with tqdm(total=len(source_files), desc=str(f\"{source_path.name}/{source_point}\")) as pbar, ThreadPoolExecutor() as executor:\n",
    "            for _ in executor.map(move_image, source_files, repeat(output_path / output_point), repeat(mappings)):\n",
    "                pbar.update(1)"
   ]
  },
  {
   "cell_type": "code",
   "execution_count": 9,
   "metadata": {},
   "outputs": [],
   "source": [
    "def rename_file(target_name, target_path):\n",
    "    target_path.rename(target_path.parent / f\"{target_name}{target_path.suffix}\")"
   ]
  },
  {
   "cell_type": "code",
   "execution_count": null,
   "metadata": {},
   "outputs": [
    {
     "data": {
      "application/vnd.jupyter.widget-view+json": {
       "model_id": "81fdf076d61941a9831a320f1a501aef",
       "version_major": 2,
       "version_minor": 0
      },
      "text/plain": [
       "/workspaces/ds340-project/data/base_input/train:   0%|          | 0/75750 [00:00<?, ?it/s]"
      ]
     },
     "metadata": {},
     "output_type": "display_data"
    },
    {
     "data": {
      "application/vnd.jupyter.widget-view+json": {
       "model_id": "b273d8c7204c412d9f8354489fe9c4dc",
       "version_major": 2,
       "version_minor": 0
      },
      "text/plain": [
       "/workspaces/ds340-project/data/base_input/valid:   0%|          | 0/25250 [00:00<?, ?it/s]"
      ]
     },
     "metadata": {},
     "output_type": "display_data"
    },
    {
     "data": {
      "application/vnd.jupyter.widget-view+json": {
       "model_id": "09ae4679ae054a8d9c31008f9701ca91",
       "version_major": 2,
       "version_minor": 0
      },
      "text/plain": [
       "/workspaces/ds340-project/data/nobg_input/train:   0%|          | 0/75750 [00:00<?, ?it/s]"
      ]
     },
     "metadata": {},
     "output_type": "display_data"
    },
    {
     "data": {
      "application/vnd.jupyter.widget-view+json": {
       "model_id": "840e6e2432704b7cb525cae9c1b65015",
       "version_major": 2,
       "version_minor": 0
      },
      "text/plain": [
       "/workspaces/ds340-project/data/nobg_input/valid:   0%|          | 0/25250 [00:00<?, ?it/s]"
      ]
     },
     "metadata": {},
     "output_type": "display_data"
    }
   ],
   "source": [
    "for outer in [BASE_INPUT, NOBG_INPUT]:\n",
    "    for inner in ['train', 'valid']:\n",
    "        with tqdm(total=len(list(Path(outer / inner).rglob(\"*.*\"))), desc=f\"{outer}/{inner}\") as pbar:\n",
    "            for label in range(0, 100+1):\n",
    "                files = [(idx+1, filename) for idx, filename in enumerate(Path(outer / inner / f\"class_{label}\").glob(\"*.*\"))]\n",
    "                with ThreadPoolExecutor() as executor:\n",
    "                    for _ in executor.map(rename_file, *zip(*files)):\n",
    "                        pbar.update(1)"
   ]
  },
  {
   "cell_type": "code",
   "execution_count": 11,
   "metadata": {},
   "outputs": [],
   "source": [
    "def move_test_image(image_path):\n",
    "    Image.open(image_path).save(Path(str(image_path).replace(\"valid\", \"test\")))\n",
    "    os.remove(image_path)"
   ]
  },
  {
   "cell_type": "code",
   "execution_count": 15,
   "metadata": {},
   "outputs": [
    {
     "data": {
      "application/vnd.jupyter.widget-view+json": {
       "model_id": "d1fc6414b81e48758cca0108f5beef89",
       "version_major": 2,
       "version_minor": 0
      },
      "text/plain": [
       "/workspaces/ds340-project/data/base_input/valid:   0%|          | 0/10100 [00:00<?, ?it/s]"
      ]
     },
     "metadata": {},
     "output_type": "display_data"
    },
    {
     "data": {
      "application/vnd.jupyter.widget-view+json": {
       "model_id": "06f5fdba3a004a83bab72665c132a76c",
       "version_major": 2,
       "version_minor": 0
      },
      "text/plain": [
       "/workspaces/ds340-project/data/nobg_input/valid:   0%|          | 0/10100 [00:00<?, ?it/s]"
      ]
     },
     "metadata": {},
     "output_type": "display_data"
    }
   ],
   "source": [
    "for outer in [BASE_INPUT, NOBG_INPUT]:\n",
    "    with tqdm(total=101*100, desc=f\"{outer}/{inner}\") as pbar:\n",
    "        for label in range(0, 100+1):\n",
    "            files = [file for file in Path(outer / 'valid' / f\"class_{label}\").glob(\"*.*\") if int(file.name[:-4]) > 150]\n",
    "            with ThreadPoolExecutor() as executor:\n",
    "                for _ in executor.map(move_test_image, files):\n",
    "                    pbar.update(1)"
   ]
  },
  {
   "cell_type": "code",
   "execution_count": null,
   "metadata": {},
   "outputs": [],
   "source": []
  }
 ],
 "metadata": {
  "kernelspec": {
   "display_name": ".venv",
   "language": "python",
   "name": "python3"
  },
  "language_info": {
   "codemirror_mode": {
    "name": "ipython",
    "version": 3
   },
   "file_extension": ".py",
   "mimetype": "text/x-python",
   "name": "python",
   "nbconvert_exporter": "python",
   "pygments_lexer": "ipython3",
   "version": "3.11.0"
  }
 },
 "nbformat": 4,
 "nbformat_minor": 2
}
