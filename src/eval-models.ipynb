{
 "cells": [
  {
   "cell_type": "code",
   "execution_count": 39,
   "metadata": {},
   "outputs": [
    {
     "name": "stdout",
     "output_type": "stream",
     "text": [
      "Model path: /workspaces/ds340-project/src/model_ckpts\n",
      "Data path: /workspaces/ds340-project/data\n"
     ]
    }
   ],
   "source": [
    "from pathlib import Path\n",
    "import json\n",
    "\n",
    "# import pandas as pd\n",
    "\n",
    "from tensorflow import one_hot\n",
    "from tensorflow.keras.models import load_model\n",
    "from tensorflow.keras.utils import image_dataset_from_directory\n",
    "\n",
    "MODEL_PATH = Path.cwd() / \"model_ckpts\" if Path.cwd().name == \"src\" else Path.cwd() / \"src\" / \"model_ckpts\"\n",
    "\n",
    "DATA_PATH = Path.cwd().parent / \"data\" if Path.cwd().name == \"src\" else Path.cwd() / \"data\"\n",
    "\n",
    "print(f\"Model path: {str(MODEL_PATH)}\")\n",
    "print(f\"Data path: {str(DATA_PATH)}\")"
   ]
  },
  {
   "cell_type": "code",
   "execution_count": 40,
   "metadata": {},
   "outputs": [
    {
     "name": "stdout",
     "output_type": "stream",
     "text": [
      "Found 10100 files belonging to 101 classes.\n",
      "Found 10100 files belonging to 101 classes.\n",
      "Found 10100 files belonging to 101 classes.\n"
     ]
    }
   ],
   "source": [
    "image_size = (224, 224)\n",
    "batch_size = 64\n",
    "\n",
    "base_test_ds = image_dataset_from_directory(\n",
    "    DATA_PATH / \"base_input\" / \"test\",\n",
    "    seed=340,\n",
    "    image_size=image_size,\n",
    "    batch_size=batch_size,\n",
    ")\n",
    "\n",
    "\n",
    "nobg_test_ds = image_dataset_from_directory(\n",
    "    DATA_PATH / \"nobg_input\" / \"test\",\n",
    "    seed=340,\n",
    "    image_size=image_size,\n",
    "    batch_size=batch_size,\n",
    ")\n",
    "\n",
    "mod_test_ds = image_dataset_from_directory(\n",
    "    DATA_PATH / \"mod_input\" / \"test\",\n",
    "    seed=340,\n",
    "    image_size=image_size,\n",
    "    batch_size=batch_size,\n",
    ")"
   ]
  },
  {
   "cell_type": "code",
   "execution_count": 41,
   "metadata": {},
   "outputs": [],
   "source": [
    "input_shape = (*image_size, 3)\n",
    "num_classes = 101"
   ]
  },
  {
   "cell_type": "code",
   "execution_count": 42,
   "metadata": {},
   "outputs": [],
   "source": [
    "def one_hot_encode(image, label):\n",
    "    label = tf.one_hot(label, depth=num_classes)\n",
    "    return image, label\n",
    "\n",
    "base_test_ds = base_test_ds.map(one_hot_encode)\n",
    "nobg_test_ds = nobg_test_ds.map(one_hot_encode)\n",
    "mod_test_ds = mod_test_ds.map(one_hot_encode)"
   ]
  },
  {
   "cell_type": "code",
   "execution_count": 43,
   "metadata": {},
   "outputs": [],
   "source": [
    "models = [\n",
    "    \"base_model_fine\",\n",
    "    \"base_model\",\n",
    "    \"nobg_model_fine\",\n",
    "    \"nobg_model\",\n",
    "    \"mod_model_fine\",\n",
    "    \"mod_model\",\n",
    "]\n",
    "\n",
    "results = {model_name: {} for model_name in models}"
   ]
  },
  {
   "cell_type": "code",
   "execution_count": 44,
   "metadata": {},
   "outputs": [
    {
     "name": "stdout",
     "output_type": "stream",
     "text": [
      "Loaded model: base_model_fine\n",
      "\u001b[1m158/158\u001b[0m \u001b[32m━━━━━━━━━━━━━━━━━━━━\u001b[0m\u001b[37m\u001b[0m \u001b[1m14s\u001b[0m 59ms/step - accuracy: 0.8089 - loss: 0.7074\n",
      "\u001b[1m158/158\u001b[0m \u001b[32m━━━━━━━━━━━━━━━━━━━━\u001b[0m\u001b[37m\u001b[0m \u001b[1m11s\u001b[0m 68ms/step - accuracy: 0.5934 - loss: 1.8292\n",
      "\u001b[1m158/158\u001b[0m \u001b[32m━━━━━━━━━━━━━━━━━━━━\u001b[0m\u001b[37m\u001b[0m \u001b[1m6s\u001b[0m 40ms/step - accuracy: 0.5184 - loss: 2.4354\n",
      "Loaded model: base_model\n",
      "\u001b[1m158/158\u001b[0m \u001b[32m━━━━━━━━━━━━━━━━━━━━\u001b[0m\u001b[37m\u001b[0m \u001b[1m12s\u001b[0m 51ms/step - accuracy: 0.6894 - loss: 1.2022\n",
      "\u001b[1m158/158\u001b[0m \u001b[32m━━━━━━━━━━━━━━━━━━━━\u001b[0m\u001b[37m\u001b[0m \u001b[1m9s\u001b[0m 57ms/step - accuracy: 0.4724 - loss: 2.3509\n",
      "\u001b[1m158/158\u001b[0m \u001b[32m━━━━━━━━━━━━━━━━━━━━\u001b[0m\u001b[37m\u001b[0m \u001b[1m6s\u001b[0m 40ms/step - accuracy: 0.3708 - loss: 3.0896\n",
      "Loaded model: nobg_model_fine\n",
      "\u001b[1m158/158\u001b[0m \u001b[32m━━━━━━━━━━━━━━━━━━━━\u001b[0m\u001b[37m\u001b[0m \u001b[1m12s\u001b[0m 54ms/step - accuracy: 0.7666 - loss: 0.8813\n",
      "\u001b[1m158/158\u001b[0m \u001b[32m━━━━━━━━━━━━━━━━━━━━\u001b[0m\u001b[37m\u001b[0m \u001b[1m6s\u001b[0m 40ms/step - accuracy: 0.7155 - loss: 1.1506\n",
      "\u001b[1m158/158\u001b[0m \u001b[32m━━━━━━━━━━━━━━━━━━━━\u001b[0m\u001b[37m\u001b[0m \u001b[1m11s\u001b[0m 69ms/step - accuracy: 0.5173 - loss: 2.3791\n",
      "Loaded model: nobg_model\n",
      "\u001b[1m158/158\u001b[0m \u001b[32m━━━━━━━━━━━━━━━━━━━━\u001b[0m\u001b[37m\u001b[0m \u001b[1m14s\u001b[0m 54ms/step - accuracy: 0.6181 - loss: 1.4443\n",
      "\u001b[1m158/158\u001b[0m \u001b[32m━━━━━━━━━━━━━━━━━━━━\u001b[0m\u001b[37m\u001b[0m \u001b[1m9s\u001b[0m 41ms/step - accuracy: 0.5783 - loss: 1.7561\n",
      "\u001b[1m158/158\u001b[0m \u001b[32m━━━━━━━━━━━━━━━━━━━━\u001b[0m\u001b[37m\u001b[0m \u001b[1m6s\u001b[0m 40ms/step - accuracy: 0.4196 - loss: 2.5470\n",
      "Loaded model: mod_model_fine\n",
      "\u001b[1m158/158\u001b[0m \u001b[32m━━━━━━━━━━━━━━━━━━━━\u001b[0m\u001b[37m\u001b[0m \u001b[1m14s\u001b[0m 59ms/step - accuracy: 0.7443 - loss: 0.9962\n",
      "\u001b[1m158/158\u001b[0m \u001b[32m━━━━━━━━━━━━━━━━━━━━\u001b[0m\u001b[37m\u001b[0m \u001b[1m15s\u001b[0m 95ms/step - accuracy: 0.6549 - loss: 1.3991\n",
      "\u001b[1m158/158\u001b[0m \u001b[32m━━━━━━━━━━━━━━━━━━━━\u001b[0m\u001b[37m\u001b[0m \u001b[1m6s\u001b[0m 40ms/step - accuracy: 0.6739 - loss: 1.3132\n",
      "Loaded model: mod_model\n",
      "\u001b[1m158/158\u001b[0m \u001b[32m━━━━━━━━━━━━━━━━━━━━\u001b[0m\u001b[37m\u001b[0m \u001b[1m16s\u001b[0m 76ms/step - accuracy: 0.5836 - loss: 1.6056\n",
      "\u001b[1m158/158\u001b[0m \u001b[32m━━━━━━━━━━━━━━━━━━━━\u001b[0m\u001b[37m\u001b[0m \u001b[1m6s\u001b[0m 40ms/step - accuracy: 0.5147 - loss: 1.9989\n",
      "\u001b[1m158/158\u001b[0m \u001b[32m━━━━━━━━━━━━━━━━━━━━\u001b[0m\u001b[37m\u001b[0m \u001b[1m6s\u001b[0m 39ms/step - accuracy: 0.5242 - loss: 2.0555\n"
     ]
    }
   ],
   "source": [
    "for model_name in models:\n",
    "    model = load_model(MODEL_PATH / f\"{model_name}.keras\", compile=True)\n",
    "    print(f\"Loaded model: {model_name}\")\n",
    "    # results[model_name][\"base\"] = model.evaluate(base_test_ds, return_dict=True)\n",
    "    # results[model_name][\"nobg\"] = model.evaluate(nobg_test_ds, return_dict=True)\n",
    "    # results[model_name][\"mod\"] = model.evaluate(mod_test_ds, return_dict=True)\n",
    "\n",
    "    for key, test in [(\"base\", base_test_ds), (\"nobg\", nobg_test_ds), (\"mod\", mod_test_ds)]:\n",
    "        temp = model.evaluate(test, return_dict=True)\n",
    "        results[model_name][f\"{key}_accuracy\"] = temp['accuracy']\n",
    "        results[model_name][f\"{key}_loss\"] = temp['loss']"
   ]
  },
  {
   "cell_type": "code",
   "execution_count": 45,
   "metadata": {},
   "outputs": [],
   "source": [
    "with Path(\"results.json\").open(\"w+\") as f:\n",
    "    json.dump(results, f, indent=4)"
   ]
  },
  {
   "cell_type": "code",
   "execution_count": 68,
   "metadata": {},
   "outputs": [
    {
     "data": {
      "text/html": [
       "<style type=\"text/css\">\n",
       "</style>\n",
       "<table id=\"T_53084\">\n",
       "  <thead>\n",
       "    <tr>\n",
       "      <th class=\"blank level0\" >&nbsp;</th>\n",
       "      <th id=\"T_53084_level0_col0\" class=\"col_heading level0 col0\" >base_accuracy</th>\n",
       "      <th id=\"T_53084_level0_col1\" class=\"col_heading level0 col1\" >nobg_accuracy</th>\n",
       "      <th id=\"T_53084_level0_col2\" class=\"col_heading level0 col2\" >mod_accuracy</th>\n",
       "      <th id=\"T_53084_level0_col3\" class=\"col_heading level0 col3\" >average_accuracy</th>\n",
       "    </tr>\n",
       "  </thead>\n",
       "  <tbody>\n",
       "    <tr>\n",
       "      <th id=\"T_53084_level0_row0\" class=\"row_heading level0 row0\" >mod_model_fine</th>\n",
       "      <td id=\"T_53084_row0_col0\" class=\"data row0 col0\" >74.20%</td>\n",
       "      <td id=\"T_53084_row0_col1\" class=\"data row0 col1\" >65.24%</td>\n",
       "      <td id=\"T_53084_row0_col2\" class=\"data row0 col2\" >67.29%</td>\n",
       "      <td id=\"T_53084_row0_col3\" class=\"data row0 col3\" >68.91%</td>\n",
       "    </tr>\n",
       "    <tr>\n",
       "      <th id=\"T_53084_level0_row1\" class=\"row_heading level0 row1\" >nobg_model_fine</th>\n",
       "      <td id=\"T_53084_row1_col0\" class=\"data row1 col0\" >76.38%</td>\n",
       "      <td id=\"T_53084_row1_col1\" class=\"data row1 col1\" >70.99%</td>\n",
       "      <td id=\"T_53084_row1_col2\" class=\"data row1 col2\" >51.23%</td>\n",
       "      <td id=\"T_53084_row1_col3\" class=\"data row1 col3\" >66.20%</td>\n",
       "    </tr>\n",
       "    <tr>\n",
       "      <th id=\"T_53084_level0_row2\" class=\"row_heading level0 row2\" >base_model_fine</th>\n",
       "      <td id=\"T_53084_row2_col0\" class=\"data row2 col0\" >80.82%</td>\n",
       "      <td id=\"T_53084_row2_col1\" class=\"data row2 col1\" >59.32%</td>\n",
       "      <td id=\"T_53084_row2_col2\" class=\"data row2 col2\" >51.58%</td>\n",
       "      <td id=\"T_53084_row2_col3\" class=\"data row2 col3\" >63.91%</td>\n",
       "    </tr>\n",
       "  </tbody>\n",
       "</table>\n"
      ],
      "text/plain": [
       "<pandas.io.formats.style.Styler at 0x7f07acb94450>"
      ]
     },
     "execution_count": 68,
     "metadata": {},
     "output_type": "execute_result"
    }
   ],
   "source": [
    "df = pd.read_json(\"results.json\").T\n",
    "df = df.drop(columns=[col for col in df.columns if \"loss\" in col])\n",
    "df[\"average_accuracy\"] = df[[\"base_accuracy\", \"nobg_accuracy\", \"mod_accuracy\"]].mean(axis=1)\n",
    "\n",
    "df = df.sort_values(by=\"average_accuracy\", ascending=False).iloc[:3]\n",
    "\n",
    "df = df.style.format({col: '{:.2%}' for col in df.columns})\n",
    "df"
   ]
  },
  {
   "cell_type": "code",
   "execution_count": null,
   "metadata": {},
   "outputs": [],
   "source": []
  }
 ],
 "metadata": {
  "kernelspec": {
   "display_name": ".venv",
   "language": "python",
   "name": "python3"
  },
  "language_info": {
   "codemirror_mode": {
    "name": "ipython",
    "version": 3
   },
   "file_extension": ".py",
   "mimetype": "text/x-python",
   "name": "python",
   "nbconvert_exporter": "python",
   "pygments_lexer": "ipython3",
   "version": "3.11.0rc1"
  }
 },
 "nbformat": 4,
 "nbformat_minor": 2
}
